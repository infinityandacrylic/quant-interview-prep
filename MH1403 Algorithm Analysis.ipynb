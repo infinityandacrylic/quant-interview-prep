{
 "cells": [
  {
   "cell_type": "markdown",
   "metadata": {},
   "source": [
    "Linear search: search for value target from list and return the index.\n",
    "\n",
    "Worst case:"
   ]
  },
  {
   "cell_type": "code",
   "execution_count": 10,
   "metadata": {},
   "outputs": [],
   "source": [
    "import time"
   ]
  },
  {
   "cell_type": "code",
   "execution_count": 14,
   "metadata": {},
   "outputs": [
    {
     "name": "stdout",
     "output_type": "stream",
     "text": [
      "(0, 9.5367431640625e-07)\n",
      "(1, 1.1920928955078125e-06)\n",
      "(-1, 9.5367431640625e-07)\n"
     ]
    }
   ],
   "source": [
    "def linearSearch(List, target):\n",
    "    startTime = time.time()\n",
    "    n = len(List)\n",
    "    i = 0\n",
    "    while i < n:\n",
    "        if List[i] == target:\n",
    "            executionTime = time.time() - startTime\n",
    "            return i, executionTime\n",
    "        i = i+1\n",
    "    executionTime = time.time() - startTime\n",
    "    return -1, executionTime\n",
    "\n",
    "print(linearSearch([1,2,0,4,5,6,7],1))\n",
    "print(linearSearch([1,2,0,4,5,6,7],2))\n",
    "print(linearSearch([1,2,0,4,5,6,7],3))"
   ]
  },
  {
   "cell_type": "markdown",
   "metadata": {},
   "source": [
    "Depending on target values, execution time will be different.\n",
    "\n",
    "Worst case: when for loop or while loop is executed n number of times"
   ]
  },
  {
   "cell_type": "markdown",
   "metadata": {},
   "source": [
    "# Maximum sub array problem\n",
    "\n",
    "Given an array of n integers: $A = [a_0, a_1, ... , a_n]$, find the subarray $A[j:k]$ that maximises $\\sum_{i=j}^{k-1} a_i$ \n",
    "\n",
    "\n",
    "first solution"
   ]
  },
  {
   "cell_type": "code",
   "execution_count": 18,
   "metadata": {},
   "outputs": [
    {
     "data": {
      "text/plain": [
       "(17, 1.71661376953125e-05)"
      ]
     },
     "execution_count": 18,
     "metadata": {},
     "output_type": "execute_result"
    }
   ],
   "source": [
    "def firstSolution(A):\n",
    "    start = time.time()\n",
    "    n = len(A)\n",
    "    m = 0\n",
    "    for j in range(n):\n",
    "        for k in range(j+1,n): #smallest subarray is A[j:j+1]\n",
    "            s = 0\n",
    "            for i in range(j,k):\n",
    "                s = s + A[i] #add all values between j and k\n",
    "                if m < s: #check if s(total sum of subarray) is larger than m, in which case assign s to m\n",
    "                    m = s\n",
    "    exectime = time.time() - start\n",
    "    return m, exectime\n",
    "\n",
    "firstSolution([1,2,3,6,4,1,0,5])"
   ]
  },
  {
   "cell_type": "markdown",
   "metadata": {},
   "source": [
    "Improved algorithm: prefixsums"
   ]
  },
  {
   "cell_type": "code",
   "execution_count": 19,
   "metadata": {},
   "outputs": [],
   "source": [
    "def maxSubFaster(A):\n",
    "    n = len(A)\n",
    "    m = 0\n",
    "    prefixsum = [0]*n\n",
    "    for i in range(n):\n",
    "        prefixsum[i] = prefixsum[i-1]+A[i]\n",
    "    for j in range(n):\n",
    "        for k in range(j+1,n):\n",
    "            s = prefixsum[k] - prefixsum[j]\n",
    "            if m < s:\n",
    "                m = s\n",
    "    return m"
   ]
  },
  {
   "cell_type": "code",
   "execution_count": 20,
   "metadata": {},
   "outputs": [
    {
     "data": {
      "text/plain": [
       "21"
      ]
     },
     "execution_count": 20,
     "metadata": {},
     "output_type": "execute_result"
    }
   ],
   "source": [
    "maxSubFaster([1,2,3,6,4,1,0,5])"
   ]
  },
  {
   "cell_type": "code",
   "execution_count": 22,
   "metadata": {},
   "outputs": [
    {
     "data": {
      "text/plain": [
       "22"
      ]
     },
     "execution_count": 22,
     "metadata": {},
     "output_type": "execute_result"
    }
   ],
   "source": [
    "def maxSubFastest(A):\n",
    "    n = len(A)\n",
    "    prefixmax = [0]*n\n",
    "    for i in range(n):\n",
    "        prefixmax[i] = max(0, prefixmax[i-1] + A[i])\n",
    "    m = 0\n",
    "    for i in range(n):\n",
    "        m = max(prefixmax[i],m)\n",
    "    return m\n",
    "\n",
    "maxSubFastest([1,2,3,6,4,1,0,5])"
   ]
  },
  {
   "cell_type": "code",
   "execution_count": null,
   "metadata": {},
   "outputs": [],
   "source": []
  }
 ],
 "metadata": {
  "interpreter": {
   "hash": "d9542f6d2a733f76b77b9a688b98118086f65c77e5093bd6ef3ddcffeca637f9"
  },
  "kernelspec": {
   "display_name": "Python 3.8.5 64-bit ('base': conda)",
   "name": "python3"
  },
  "language_info": {
   "codemirror_mode": {
    "name": "ipython",
    "version": 3
   },
   "file_extension": ".py",
   "mimetype": "text/x-python",
   "name": "python",
   "nbconvert_exporter": "python",
   "pygments_lexer": "ipython3",
   "version": "3.8.5"
  }
 },
 "nbformat": 4,
 "nbformat_minor": 4
}