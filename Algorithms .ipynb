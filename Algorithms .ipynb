{
 "cells": [
  {
   "cell_type": "markdown",
   "metadata": {},
   "source": [
    "# General Algorithms"
   ]
  },
  {
   "cell_type": "markdown",
   "metadata": {},
   "source": [
    "**Fibonacci Sequence: Non-Recursive**"
   ]
  },
  {
   "cell_type": "code",
   "execution_count": 8,
   "metadata": {},
   "outputs": [
    {
     "name": "stdout",
     "output_type": "stream",
     "text": [
      "Please enter a positive number for n1\n",
      "0\n",
      "1\n",
      "1\n",
      "2\n",
      "3\n",
      "5\n",
      "8\n",
      "13\n",
      "21\n",
      "34\n",
      "55\n",
      "89\n",
      "144\n",
      "233\n",
      "377\n",
      "610\n",
      "None\n"
     ]
    }
   ],
   "source": [
    "def fibonacci(n1,n2,terms):\n",
    "    if terms <=0 :\n",
    "        print(\"Please enter a positive number for terms\")\n",
    "    if n1 <= 0:\n",
    "        print(\"Please enter a positive number for n1\")\n",
    "    elif n1 == 1:\n",
    "        print(\"Fibonacci squence upto\", terms, \":\")\n",
    "        print(n1)\n",
    "    if n2 <= n1:\n",
    "        print(\"Please enter n2 greater than n1\")\n",
    "    count = 0\n",
    "    while count <= terms:\n",
    "        print(n1)\n",
    "        nnext = n1 + n2\n",
    "        n1 = n2\n",
    "        n2 = nnext\n",
    "        count += 1\n",
    "\n",
    "print(fibonacci(0,1,15))"
   ]
  },
  {
   "cell_type": "markdown",
   "metadata": {},
   "source": [
    "**Fibonacci Sequence: Recursive**"
   ]
  },
  {
   "cell_type": "code",
   "execution_count": 9,
   "metadata": {},
   "outputs": [
    {
     "name": "stdout",
     "output_type": "stream",
     "text": [
      "0\n",
      "1\n",
      "1\n",
      "2\n",
      "3\n",
      "5\n",
      "8\n",
      "13\n",
      "21\n",
      "34\n",
      "55\n",
      "89\n",
      "144\n",
      "233\n",
      "377\n",
      "610\n"
     ]
    }
   ],
   "source": [
    "def fibonacci(n):\n",
    "    if n < 2:\n",
    "        return n\n",
    "    else:\n",
    "        return fibonacci(n-1)+fibonacci(n-2)\n",
    "    \n",
    "for i in range(0,16):\n",
    "    print(fibonacci(i))"
   ]
  },
  {
   "cell_type": "markdown",
   "metadata": {},
   "source": [
    "**Ugly Numbers** \n",
    "\n",
    "Ugly numbers are numbers whose only prime factors are 2, 3 or 5. The sequence 1, 2, 3, 4, 5, 6, 8, 9, 10, 12, 15, … shows the first 11 ugly numbers. By convention, 1 is included. \n",
    "Given a number n, the task is to find n’th Ugly number."
   ]
  },
  {
   "cell_type": "code",
   "execution_count": 10,
   "metadata": {},
   "outputs": [
    {
     "name": "stdout",
     "output_type": "stream",
     "text": [
      "1\n"
     ]
    }
   ],
   "source": [
    "def maxdivide(a,b):\n",
    "    while a % b == 0:\n",
    "        a = a/b\n",
    "    return a\n",
    "\n",
    "def isUgly(n):\n",
    "    i = maxdivide(n,2)\n",
    "    i = maxdivide(n,3)\n",
    "    i = maxdivide(n,5)\n",
    "    return 1 if i == 1 else 0\n",
    "\n",
    "def nthugly(n):\n",
    "    k = 1\n",
    "    count = 1\n",
    "    \n",
    "    while n > count:\n",
    "        k += 1\n",
    "        if isUgly(n) == 1:\n",
    "            count +=1\n",
    "    return k\n",
    "\n",
    "print(nthugly(1))\n",
    "    "
   ]
  },
  {
   "cell_type": "markdown",
   "metadata": {},
   "source": [
    "**Linear Search**"
   ]
  },
  {
   "cell_type": "code",
   "execution_count": 11,
   "metadata": {},
   "outputs": [
    {
     "name": "stdout",
     "output_type": "stream",
     "text": [
      "2\n"
     ]
    }
   ],
   "source": [
    "def linear(l,x):\n",
    "    for n in range(len(l)):\n",
    "        if l[n] == x:\n",
    "            return n\n",
    "        \n",
    "print(linear([1,2,5],5))"
   ]
  },
  {
   "cell_type": "markdown",
   "metadata": {},
   "source": [
    "**Binary Search**"
   ]
  },
  {
   "cell_type": "code",
   "execution_count": 12,
   "metadata": {},
   "outputs": [
    {
     "name": "stdout",
     "output_type": "stream",
     "text": [
      "2\n"
     ]
    }
   ],
   "source": [
    "def binary(arr,x,l,h):\n",
    "    arr.sort()\n",
    "    n = len(arr)\n",
    "    if n >= 1:\n",
    "        mid = (l+h) // 2\n",
    "        if arr[mid] == x:\n",
    "            return mid\n",
    "    \n",
    "        elif x < arr[mid]:\n",
    "            return binary(arr,x, l, mid)\n",
    "    \n",
    "        elif x > arr[mid]:\n",
    "            return binary(arr,x, mid-1 , h)\n",
    "    else:\n",
    "        return -1\n",
    "    \n",
    "print(binary([1,2,4,5,6], 4, 1, 6))"
   ]
  },
  {
   "cell_type": "markdown",
   "metadata": {},
   "source": [
    "**Bubble Sort**\n",
    "\n",
    "The simplest sorting algorithm: swaps two numbers if they are in the wrong order."
   ]
  },
  {
   "cell_type": "code",
   "execution_count": 13,
   "metadata": {},
   "outputs": [
    {
     "name": "stdout",
     "output_type": "stream",
     "text": [
      "[1, 3, 4, 5, 6, 8]\n"
     ]
    }
   ],
   "source": [
    "def bubbleSort(L):\n",
    "    n = len(L)\n",
    "    \n",
    "    for i in range(n):\n",
    "        for j in range(0,n-i-1):\n",
    "            if L[j] > L[j+1]:\n",
    "                L[j],L[j+1] = L[j+1],L[j]\n",
    "    \n",
    "    return L\n",
    "\n",
    "print(bubbleSort([1,4,3,8,6,5]))"
   ]
  },
  {
   "cell_type": "markdown",
   "metadata": {},
   "source": [
    "**Merge Sort** \n",
    "\n",
    "Divide and Conquer Algorithm. Split the list into halves until you reach 1 unit lists. Then merge back together in order."
   ]
  },
  {
   "cell_type": "code",
   "execution_count": 14,
   "metadata": {},
   "outputs": [
    {
     "ename": "RecursionError",
     "evalue": "maximum recursion depth exceeded while calling a Python object",
     "output_type": "error",
     "traceback": [
      "\u001b[0;31m---------------------------------------------------------------------------\u001b[0m",
      "\u001b[0;31mRecursionError\u001b[0m                            Traceback (most recent call last)",
      "\u001b[0;32m/var/folders/ns/g_kv0jsj6_9fgnqgx_qhgnyh0000gn/T/ipykernel_83332/939514529.py\u001b[0m in \u001b[0;36m<module>\u001b[0;34m\u001b[0m\n\u001b[1;32m     32\u001b[0m     \u001b[0;32mreturn\u001b[0m \u001b[0marr\u001b[0m\u001b[0;34m\u001b[0m\u001b[0;34m\u001b[0m\u001b[0m\n\u001b[1;32m     33\u001b[0m \u001b[0;34m\u001b[0m\u001b[0m\n\u001b[0;32m---> 34\u001b[0;31m \u001b[0mprint\u001b[0m\u001b[0;34m(\u001b[0m\u001b[0mmergeSort\u001b[0m\u001b[0;34m(\u001b[0m\u001b[0;34m[\u001b[0m\u001b[0;36m8\u001b[0m\u001b[0;34m,\u001b[0m\u001b[0;36m5\u001b[0m\u001b[0;34m,\u001b[0m\u001b[0;36m3\u001b[0m\u001b[0;34m]\u001b[0m\u001b[0;34m)\u001b[0m\u001b[0;34m)\u001b[0m\u001b[0;34m\u001b[0m\u001b[0;34m\u001b[0m\u001b[0m\n\u001b[0m",
      "\u001b[0;32m/var/folders/ns/g_kv0jsj6_9fgnqgx_qhgnyh0000gn/T/ipykernel_83332/939514529.py\u001b[0m in \u001b[0;36mmergeSort\u001b[0;34m(arr)\u001b[0m\n\u001b[1;32m      6\u001b[0m     \u001b[0mR\u001b[0m \u001b[0;34m=\u001b[0m \u001b[0marr\u001b[0m\u001b[0;34m[\u001b[0m\u001b[0;34m:\u001b[0m\u001b[0mmid\u001b[0m\u001b[0;34m]\u001b[0m\u001b[0;34m\u001b[0m\u001b[0;34m\u001b[0m\u001b[0m\n\u001b[1;32m      7\u001b[0m \u001b[0;34m\u001b[0m\u001b[0m\n\u001b[0;32m----> 8\u001b[0;31m     \u001b[0mmergeSort\u001b[0m\u001b[0;34m(\u001b[0m\u001b[0mL\u001b[0m\u001b[0;34m)\u001b[0m\u001b[0;34m\u001b[0m\u001b[0;34m\u001b[0m\u001b[0m\n\u001b[0m\u001b[1;32m      9\u001b[0m \u001b[0;34m\u001b[0m\u001b[0m\n\u001b[1;32m     10\u001b[0m     \u001b[0mmergeSort\u001b[0m\u001b[0;34m(\u001b[0m\u001b[0mR\u001b[0m\u001b[0;34m)\u001b[0m\u001b[0;34m\u001b[0m\u001b[0;34m\u001b[0m\u001b[0m\n",
      "... last 1 frames repeated, from the frame below ...\n",
      "\u001b[0;32m/var/folders/ns/g_kv0jsj6_9fgnqgx_qhgnyh0000gn/T/ipykernel_83332/939514529.py\u001b[0m in \u001b[0;36mmergeSort\u001b[0;34m(arr)\u001b[0m\n\u001b[1;32m      6\u001b[0m     \u001b[0mR\u001b[0m \u001b[0;34m=\u001b[0m \u001b[0marr\u001b[0m\u001b[0;34m[\u001b[0m\u001b[0;34m:\u001b[0m\u001b[0mmid\u001b[0m\u001b[0;34m]\u001b[0m\u001b[0;34m\u001b[0m\u001b[0;34m\u001b[0m\u001b[0m\n\u001b[1;32m      7\u001b[0m \u001b[0;34m\u001b[0m\u001b[0m\n\u001b[0;32m----> 8\u001b[0;31m     \u001b[0mmergeSort\u001b[0m\u001b[0;34m(\u001b[0m\u001b[0mL\u001b[0m\u001b[0;34m)\u001b[0m\u001b[0;34m\u001b[0m\u001b[0;34m\u001b[0m\u001b[0m\n\u001b[0m\u001b[1;32m      9\u001b[0m \u001b[0;34m\u001b[0m\u001b[0m\n\u001b[1;32m     10\u001b[0m     \u001b[0mmergeSort\u001b[0m\u001b[0;34m(\u001b[0m\u001b[0mR\u001b[0m\u001b[0;34m)\u001b[0m\u001b[0;34m\u001b[0m\u001b[0;34m\u001b[0m\u001b[0m\n",
      "\u001b[0;31mRecursionError\u001b[0m: maximum recursion depth exceeded while calling a Python object"
     ]
    }
   ],
   "source": [
    "def mergeSort(arr):\n",
    "    n = len(arr)\n",
    "    mid = n // 2\n",
    "    \n",
    "    L = arr[mid:]\n",
    "    R = arr[:mid]\n",
    "    \n",
    "    mergeSort(L)\n",
    "    \n",
    "    mergeSort(R)\n",
    "    \n",
    "    i = j = k = 0\n",
    "    \n",
    "    while i < len(L) and j < len(R):\n",
    "        if L[i] < R[j]:\n",
    "            arr[k] = L[i]\n",
    "            k += 1\n",
    "        else:\n",
    "            arr[k] = R[j]\n",
    "            k += 1\n",
    "    \n",
    "    while i < len(L):\n",
    "        arr[k] = L[i]\n",
    "        i += 1\n",
    "        k += 1\n",
    "        \n",
    "    while j < len(R):\n",
    "        arr[k] = R[j]\n",
    "        j += 1\n",
    "        k += 1\n",
    "        \n",
    "    return arr\n",
    "\n",
    "print(mergeSort([8,5,3]))"
   ]
  },
  {
   "cell_type": "markdown",
   "metadata": {},
   "source": [
    "**Selection Sort**\n",
    "\n",
    "Find the minimum element in the list and put it in the front of the list."
   ]
  },
  {
   "cell_type": "code",
   "execution_count": null,
   "metadata": {
    "scrolled": true
   },
   "outputs": [
    {
     "name": "stdout",
     "output_type": "stream",
     "text": [
      "[11, 12, 22, 25, 64]\n"
     ]
    }
   ],
   "source": [
    "def selectionSort(L):\n",
    "    n = len(L)\n",
    "    \n",
    "    for i in range(n):\n",
    "        \n",
    "        minIndex = i\n",
    "        for j in range(i+1,n):\n",
    "            if L[minIndex] > L[j]:\n",
    "                minIndex = j\n",
    "        \n",
    "        L[i], L[minIndex] = L[minIndex], L[i]\n",
    "        \n",
    "    return L\n",
    "\n",
    "print(selectionSort([64,25,12,22,11]))"
   ]
  },
  {
   "cell_type": "markdown",
   "metadata": {},
   "source": [
    "**Insertion Sort** \n",
    "\n",
    "Like sorting a deck of cards: go through the list and when you see that a number is lesser than its previous element you move it back.\n",
    "\n",
    "set elements to a key (the card you want to sort). set j = i-1 (the previous card). if this card is lesser than the previous, you move the previous card ahead to make space. now reduce j by one again (compare with second previous card and so on). if j = -1, i.e. you reach the last position then you do not move cards further ahead.\n",
    "set the key to the j+1'th position if key > L[j] or if j = -1"
   ]
  },
  {
   "cell_type": "code",
   "execution_count": null,
   "metadata": {},
   "outputs": [
    {
     "name": "stdout",
     "output_type": "stream",
     "text": [
      "[1, 3, 5, 6, 8, 9, 10]\n"
     ]
    }
   ],
   "source": [
    "def insertionSort(L):\n",
    "    \n",
    "    for i in range(1,len(L)):\n",
    "        key = L[i]\n",
    "        \n",
    "        j = i-1\n",
    "        while j >=0 and key < L[j]:\n",
    "            L[j+1] = L[j]\n",
    "            j -= 1\n",
    "        L[j+1] = key\n",
    "    return L\n",
    "\n",
    "print(insertionSort([1,6,5,3,9,8,10]))"
   ]
  },
  {
   "attachments": {
    "QuickSort2.png": {
     "image/png": "[encoded data removed]"
    }
   },
   "cell_type": "markdown",
   "metadata": {},
   "source": [
    "**Quick Sort**\n",
    "\n",
    "Another Divide and Conquer Algorithm. Select a pivot and split the list around the pivot. pivots can be either:\n",
    "\n",
    "1. the first element of the list\n",
    "\n",
    "2. the last element of the list (as shown below)\n",
    "\n",
    "3. the median of the list\n",
    "\n",
    "4. Select the pivot randomly\n",
    "\n",
    "![QuickSort2.png](attachment:QuickSort2.png)"
   ]
  },
  {
   "cell_type": "code",
   "execution_count": null,
   "metadata": {},
   "outputs": [
    {
     "name": "stdout",
     "output_type": "stream",
     "text": [
      "None\n"
     ]
    }
   ],
   "source": [
    "def partition(s, e, L):\n",
    "    pivot_index = s\n",
    "    pivot = L[pivot_index]\n",
    "    \n",
    "    while s < e:\n",
    "        while s < len(L) and L[s] <= pivot:\n",
    "            s += 1\n",
    "        \n",
    "        while L[e] > pivot:\n",
    "            e -= 1\n",
    "            \n",
    "        if (s < e):\n",
    "            L[s], L[e] = L[e], L[s]\n",
    "    \n",
    "    L[e], L[pivot_index] = L[pivot_index], L[e]\n",
    "    \n",
    "    return e\n",
    "\n",
    "def quickSort(s, e, L):\n",
    "    \n",
    "    if (s < e):\n",
    "        \n",
    "        p = partition(s, e, L)\n",
    "        \n",
    "        quickSort(s, p-1, L)\n",
    "        quickSort(p+1, e, L)\n",
    "        \n",
    "array = [1,5,3,8,7,6]\n",
    "print(quickSort(0,len(array)-1,array))\n",
    "    "
   ]
  },
  {
   "cell_type": "markdown",
   "metadata": {},
   "source": [
    "# Miscellaneous Practice"
   ]
  },
  {
   "cell_type": "markdown",
   "metadata": {},
   "source": [
    "**Task 1:** Write a Python program to get an integer n from the user, thenprint the integers from 1 to n to the screen"
   ]
  },
  {
   "cell_type": "code",
   "execution_count": null,
   "metadata": {},
   "outputs": [
    {
     "name": "stdout",
     "output_type": "stream",
     "text": [
      "Enter a number: 5\n",
      "0\n",
      "1\n",
      "2\n",
      "3\n",
      "4\n",
      "5\n"
     ]
    }
   ],
   "source": [
    "n = input(\"Enter a number: \")\n",
    "\n",
    "for i in range(int(n)+1):\n",
    "    print(i)"
   ]
  },
  {
   "cell_type": "markdown",
   "metadata": {},
   "source": [
    "**Task 2:** Write a Python program to get an integer n from the user, thencreate a list with n elements.The value of the element at the index i isthe integer 3*i+7. Print this list to the screen."
   ]
  },
  {
   "cell_type": "code",
   "execution_count": null,
   "metadata": {},
   "outputs": [
    {
     "name": "stdout",
     "output_type": "stream",
     "text": [
      "Enter n: 5\n",
      "[7, 10, 13, 16, 19]\n"
     ]
    }
   ],
   "source": [
    "n = input(\"Enter n: \")\n",
    "\n",
    "list1 = []\n",
    "\n",
    "for i in range(0,int(n)):\n",
    "    list1.append(3*i + 7)\n",
    "print(list1)"
   ]
  },
  {
   "cell_type": "markdown",
   "metadata": {},
   "source": [
    "**Task 3:** Write a Python program to get an integer n from the user, thenprint a square.Each side of the square consists of n characters ‘*’."
   ]
  },
  {
   "cell_type": "code",
   "execution_count": null,
   "metadata": {},
   "outputs": [
    {
     "name": "stdout",
     "output_type": "stream",
     "text": [
      "Enter n: 5\n",
      "*****\n",
      "*  *\n"
     ]
    }
   ],
   "source": [
    "n = input(\"Enter n: \")\n",
    "\n",
    "n = int(n)\n",
    "gap = n-2\n",
    "\n",
    "if n == 1:\n",
    "    print(\"*\")\n",
    "if n == 2:\n",
    "    print(\"**\")\n",
    "    print(\"**\")\n",
    "elif n > 2:\n",
    "    print('*'*int(n))\n",
    "    print('*', ''*(gap), '*')"
   ]
  },
  {
   "cell_type": "markdown",
   "metadata": {},
   "source": [
    "# Xinfeng Zhou Practice"
   ]
  },
  {
   "cell_type": "markdown",
   "metadata": {},
   "source": [
    "**Unique Numbers**: if you are given a sorted array, write code to extract the unique elements from it."
   ]
  },
  {
   "cell_type": "code",
   "execution_count": null,
   "metadata": {},
   "outputs": [
    {
     "name": "stdout",
     "output_type": "stream",
     "text": [
      "[1, 3, 5]\n"
     ]
    }
   ],
   "source": [
    "def uniqueNumbers(L):\n",
    "    U = []\n",
    "    for i in range(len(L)):\n",
    "        if L[i] != L[i-1]:\n",
    "            U.append(L[i])\n",
    "    return U\n",
    "\n",
    "print(uniqueNumbers([1,1,3,3,3,5,5,5]))"
   ]
  },
  {
   "cell_type": "markdown",
   "metadata": {},
   "source": [
    "**Maximum Contiguous Subarray**"
   ]
  },
  {
   "cell_type": "code",
   "execution_count": 15,
   "metadata": {},
   "outputs": [
    {
     "name": "stdout",
     "output_type": "stream",
     "text": [
      "7\n"
     ]
    }
   ],
   "source": [
    "def msa(A):\n",
    "    T = A[0]\n",
    "    Vmax = A[0]\n",
    "    Tmin = min(0,T)\n",
    "    \n",
    "    for j in range(1,len(A)):\n",
    "        T = T + A[j]\n",
    "        if T - Tmin > Vmax:\n",
    "            Vmax = T - Tmin\n",
    "            m = j\n",
    "        if T < Tmin:\n",
    "            Tmin = T\n",
    "    return Vmax\n",
    "\n",
    "print(msa([0,1,-4,5,2]))"
   ]
  },
  {
   "cell_type": "markdown",
   "metadata": {},
   "source": [
    "**Task**: Check if a number is a perfect square or not"
   ]
  },
  {
   "cell_type": "code",
   "execution_count": 16,
   "metadata": {},
   "outputs": [
    {
     "name": "stdout",
     "output_type": "stream",
     "text": [
      "TRUE\n"
     ]
    }
   ],
   "source": [
    "import math\n",
    "\n",
    "def perfectsquare(x):\n",
    "    r = math.sqrt(x)\n",
    "    if r**2 == x:\n",
    "        print(\"TRUE\")\n",
    "    else:\n",
    "        print(\"FALSE\")\n",
    "        \n",
    "perfectsquare(36)"
   ]
  },
  {
   "cell_type": "markdown",
   "metadata": {},
   "source": [
    "**Task**: Check if a number is a prime number or not"
   ]
  },
  {
   "cell_type": "code",
   "execution_count": 17,
   "metadata": {},
   "outputs": [
    {
     "name": "stdout",
     "output_type": "stream",
     "text": [
      "True\n"
     ]
    }
   ],
   "source": [
    "def prime(x):\n",
    "    for i in range(2,int(x/2)+1):\n",
    "        if (x % i) == 0:\n",
    "            print(i)\n",
    "            return False\n",
    "        else:\n",
    "            return True\n",
    "            \n",
    "print(prime(13))"
   ]
  },
  {
   "cell_type": "markdown",
   "metadata": {},
   "source": [
    "**Anagrams**"
   ]
  },
  {
   "cell_type": "code",
   "execution_count": null,
   "metadata": {},
   "outputs": [],
   "source": []
  }
 ],
 "metadata": {
  "interpreter": {
   "hash": "31f2aee4e71d21fbe5cf8b01ff0e069b9275f58929596ceb00d14d90e3e16cd6"
  },
  "kernelspec": {
   "display_name": "Python 3.8.2 64-bit",
   "name": "python3"
  },
  "language_info": {
   "codemirror_mode": {
    "name": "ipython",
    "version": 3
   },
   "file_extension": ".py",
   "mimetype": "text/x-python",
   "name": "python",
   "nbconvert_exporter": "python",
   "pygments_lexer": "ipython3",
   "version": "3.8.2"
  }
 },
 "nbformat": 4,
 "nbformat_minor": 4
}