{
 "cells": [
  {
   "cell_type": "markdown",
   "metadata": {},
   "source": [
    "# Lists"
   ]
  },
  {
   "cell_type": "code",
   "execution_count": 4,
   "metadata": {},
   "outputs": [
    {
     "name": "stdout",
     "output_type": "stream",
     "text": [
      "[1, 2, 4, 5]\n"
     ]
    }
   ],
   "source": [
    "list1 = [1,2]\n",
    "list2 = [4,5]\n",
    "list3 = list1 + list2 #concatenation\n",
    "\n",
    "print(list3)"
   ]
  },
  {
   "cell_type": "code",
   "execution_count": 5,
   "metadata": {},
   "outputs": [
    {
     "name": "stdout",
     "output_type": "stream",
     "text": [
      "[1, 2, 1, 2, 1, 2]\n"
     ]
    }
   ],
   "source": [
    "print(list1*3) #repetition"
   ]
  },
  {
   "cell_type": "code",
   "execution_count": 6,
   "metadata": {},
   "outputs": [
    {
     "data": {
      "text/plain": [
       "False"
      ]
     },
     "execution_count": 6,
     "metadata": {},
     "output_type": "execute_result"
    }
   ],
   "source": [
    "8 in list1  #test membership"
   ]
  },
  {
   "cell_type": "code",
   "execution_count": 8,
   "metadata": {},
   "outputs": [
    {
     "name": "stdout",
     "output_type": "stream",
     "text": [
      "['Hello', True, 5.98]\n"
     ]
    }
   ],
   "source": [
    "mylist = [1,2,'Hello',True, 5.98, 16]\n",
    "\n",
    "print(mylist[2:5]) #slicing"
   ]
  },
  {
   "cell_type": "code",
   "execution_count": 9,
   "metadata": {},
   "outputs": [
    {
     "name": "stdout",
     "output_type": "stream",
     "text": [
      "[2, True, 16]\n"
     ]
    }
   ],
   "source": [
    "print(mylist[1:6:2]) #extended slicing, 3rd parameter is for step value"
   ]
  },
  {
   "cell_type": "code",
   "execution_count": 12,
   "metadata": {},
   "outputs": [
    {
     "name": "stdout",
     "output_type": "stream",
     "text": [
      "[1, 2]\n",
      "[2]\n"
     ]
    }
   ],
   "source": [
    "mylist[2:5] = [] #deletion\n",
    "print(mylist)\n",
    "\n",
    "del mylist[0]\n",
    "print(mylist)"
   ]
  },
  {
   "cell_type": "code",
   "execution_count": 21,
   "metadata": {},
   "outputs": [
    {
     "name": "stdout",
     "output_type": "stream",
     "text": [
      "[1, 2, 6]\n",
      "[1, 2, 6, 0, 1, 2]\n",
      "[1, 2, 6, 'hi', 0, 1, 2]\n"
     ]
    }
   ],
   "source": [
    "#methods to grow list\n",
    "mylist = [1,2]\n",
    "\n",
    "mylist.append(6)\n",
    "print(mylist)\n",
    "\n",
    "mylist.extend(range(3))\n",
    "print(mylist)\n",
    "\n",
    "mylist.insert(3, 'hi')\n",
    "print(mylist)"
   ]
  },
  {
   "cell_type": "code",
   "execution_count": 23,
   "metadata": {},
   "outputs": [
    {
     "name": "stdout",
     "output_type": "stream",
     "text": [
      "[1, 2, 6, 'hi', 1, 2]\n",
      "[1, 2, 6, 1, 2]\n"
     ]
    }
   ],
   "source": [
    "#methods to shrink list\n",
    "\n",
    "mylist.pop(4)\n",
    "print(mylist)\n",
    "\n",
    "mylist.remove('hi')\n",
    "print(mylist)\n",
    "\n",
    "#mylist.clear()\n",
    "#print(mylist)"
   ]
  },
  {
   "cell_type": "code",
   "execution_count": 36,
   "metadata": {},
   "outputs": [
    {
     "name": "stdout",
     "output_type": "stream",
     "text": [
      "2\n",
      "2\n",
      "[2, 1, 6, 2, 1]\n",
      "[1, 2, 6, 1, 2]\n",
      "[1, 1, 2, 2, 6]\n",
      "[6, 2, 2, 1, 1]\n"
     ]
    }
   ],
   "source": [
    "#searching and sorting\n",
    "\n",
    "print(mylist.index(6))\n",
    "\n",
    "print(mylist.count(2))\n",
    "\n",
    "mylist2 = mylist.copy()\n",
    "print(mylist2)\n",
    "\n",
    "mylist2.reverse()\n",
    "print(mylist2)\n",
    "\n",
    "mylist2.sort()\n",
    "print(mylist2)\n",
    "\n",
    "mylist2.sort(reverse = True)\n",
    "print(mylist2)"
   ]
  },
  {
   "cell_type": "code",
   "execution_count": 54,
   "metadata": {},
   "outputs": [
    {
     "name": "stdout",
     "output_type": "stream",
     "text": [
      "[1 2 3 4]\n",
      "[3 4 5 6 7]\n",
      "[ 3.  6.  9. 12. 15.]\n",
      "[ 3.  6.  9. 12. 15.  3.  6.  9. 12. 15.  3.  6.  9. 12. 15.]\n",
      "[[0. 0. 0.]\n",
      " [0. 0. 0.]]\n",
      "[[1. 1.]\n",
      " [1. 1.]\n",
      " [1. 1.]]\n"
     ]
    }
   ],
   "source": [
    "#Vectors and matrices\n",
    "import numpy as np\n",
    "\n",
    "myArr = np.array([1,2,3,4])\n",
    "print(myArr)\n",
    "\n",
    "myArr = np.arange(3,8)\n",
    "print(myArr)\n",
    "\n",
    "myArr = np.linspace(3,15,5) #creates a linearly spaced vector with 5 values in the inclusive range of 3 and 15\n",
    "print(myArr)\n",
    "\n",
    "myArr = np.tile(myArr, 3)\n",
    "print(myArr)\n",
    "\n",
    "myArr.shape\n",
    "\n",
    "#special arrays\n",
    "\n",
    "arr = np.zeros([2,3])\n",
    "print(arr)\n",
    "\n",
    "arr2 = np.ones([3,2])\n",
    "print(arr2)"
   ]
  },
  {
   "cell_type": "code",
   "execution_count": 55,
   "metadata": {},
   "outputs": [
    {
     "name": "stdout",
     "output_type": "stream",
     "text": [
      "[[0. 0.]\n",
      " [0. 0.]]\n"
     ]
    }
   ],
   "source": [
    "print(arr@arr2) #matrix multiplication"
   ]
  },
  {
   "cell_type": "code",
   "execution_count": 67,
   "metadata": {},
   "outputs": [],
   "source": [
    "class myList:\n",
    "    def __init__(self, mylist):\n",
    "        self.list = mylist\n",
    "        self.r = len(mylist)\n",
    "    \n",
    "    def get(self,r):\n",
    "        if r < 0 or r > self.r - 1:\n",
    "            return('Index Error')\n",
    "        else:\n",
    "            return self.list[r]\n",
    "        \n",
    "    def setTo(self, r ,e):\n",
    "        if r < 0 or r> self.r - 1:\n",
    "            return('Index Error')\n",
    "        else:\n",
    "            x = self.list[r]\n",
    "            self.list[r] = e\n",
    "            return self.list\n"
   ]
  },
  {
   "cell_type": "code",
   "execution_count": 68,
   "metadata": {},
   "outputs": [
    {
     "data": {
      "text/plain": [
       "[1, 2, 3, 4, 4]"
      ]
     },
     "execution_count": 68,
     "metadata": {},
     "output_type": "execute_result"
    }
   ],
   "source": [
    "l = myList([1,2,3,4,5])\n",
    "\n",
    "l.setTo(4,4)"
   ]
  },
  {
   "cell_type": "markdown",
   "metadata": {},
   "source": [
    "# Linked Lists"
   ]
  },
  {
   "cell_type": "markdown",
   "metadata": {},
   "source": [
    "storing an element is relative to other elements in the list"
   ]
  },
  {
   "cell_type": "code",
   "execution_count": 34,
   "metadata": {},
   "outputs": [],
   "source": [
    "class Node:\n",
    "    def __init__(self, data = None, next = None, prev = None):\n",
    "        self.data = data\n",
    "        self.next = next\n",
    "        self.prev = prev\n",
    "\n",
    "class LinkedList:\n",
    "    def __init__(self):\n",
    "        self.head = None\n",
    "\n",
    "    #add  node at the front\n",
    "\n",
    "    def push(self, newData):\n",
    "        newNode = Node(data = newData)\n",
    "\n",
    "        newNode.next = self.head\n",
    "        newNode.prev = None\n",
    "\n",
    "        if self.head is not None:\n",
    "            self.head.prev = newNode\n",
    "\n",
    "        self.head = newNode\n",
    "\n",
    "    #add a node after a given node\n",
    "\n",
    "    def insertAfter(self, prevNode, newData):\n",
    "        if prevNode is None:\n",
    "            print('This node doesnt exist')\n",
    "            return\n",
    "        \n",
    "        newNode = Node(data = newData, prev = prevNode)\n",
    "\n",
    "        newNode.next = prevNode.next\n",
    "\n",
    "        if prevNode.next is not None:\n",
    "            prevNode.next.prev = newNode\n",
    "\n",
    "        newNode.prev = prevNode\n",
    "        prevNode.next = newNode\n",
    "\n",
    "    #add node at the end\n",
    "\n",
    "    def append(self, newData):\n",
    "\n",
    "        newNode = Node(data = newData)\n",
    "\n",
    "        last = self.head #assign last to the first node in the list\n",
    "\n",
    "        if self.head is None: #if the list is empty\n",
    "            newNode.prev = None\n",
    "            self.head = newNode\n",
    "            return\n",
    "        \n",
    "        while (last.next is not None):\n",
    "            last = last.next #assign the last node of the list to last\n",
    "\n",
    "        last.next = newNode #let the next node of the last node be new node\n",
    "        newNode.prev = last #link the previous node of the new node as last node\n",
    "\n",
    "\n",
    "    #add a node before a given node\n",
    "\n",
    "    def insertBefore(self, nextNode, newData):\n",
    "        if nextNode == None:\n",
    "            print('the given next node cannot be NULL')\n",
    "            return\n",
    "        \n",
    "        newNode = Node(data = newData)\n",
    "\n",
    "        newNode.prev = nextNode.prev\n",
    "        nextNode.prev = newNode\n",
    "\n",
    "        newNode.next = nextNode\n",
    "\n",
    "        if newNode.prev != None:\n",
    "            newNode.prev.next = newNode\n",
    "\n",
    "        else:\n",
    "            self.head = newNode\n",
    "\n",
    "    def remove(self, node):\n",
    "        t = node.data\n",
    "\n",
    "        if node == self.head:\n",
    "            self.head = self.head.next\n",
    "            return\n",
    "        (node.prev).next = node.next\n",
    "        (node.next).prev = node.prev\n",
    "        node.prev = None\n",
    "        node.next = None\n",
    "\n",
    "        return t\n",
    "        \n",
    "\n",
    "    def printList(self, node):\n",
    "        last = None\n",
    "        print('forward traversal: ')\n",
    "\n",
    "        while (node != None):\n",
    "            print(node.data, end = \" \")\n",
    "            last = node\n",
    "            node = node.next\n",
    "\n",
    "        print('\\nreverse traversal: ')\n",
    "\n",
    "        while (last != None):\n",
    "            print(last.data, end = \" \")\n",
    "            last = last.prev\n",
    "\n",
    "\n"
   ]
  },
  {
   "cell_type": "code",
   "execution_count": 36,
   "metadata": {},
   "outputs": [
    {
     "name": "stdout",
     "output_type": "stream",
     "text": [
      "forward traversal: \n",
      "4 1 6 \n",
      "reverse traversal: \n",
      "6 1 4 "
     ]
    }
   ],
   "source": [
    "llist = LinkedList()\n",
    "\n",
    "#1\n",
    "llist.push(1)\n",
    "\n",
    "# 4-1\n",
    "llist.push(4)\n",
    "\n",
    "#4-1-6\n",
    "llist.append(6)\n",
    "\n",
    "#4-2-1-6\n",
    "llist.insertBefore(llist.head.next,2)\n",
    "\n",
    "#4-1-6\n",
    "llist.remove(llist.head.next)\n",
    "\n",
    "llist.printList(llist.head)\n"
   ]
  },
  {
   "cell_type": "markdown",
   "metadata": {},
   "source": [
    "# Stacks \n",
    "\n",
    "LIFO: objects may be inserted into a stack at any time, but only the most recently inserted (the last onject) can be removed at any time\n",
    "\n",
    "## Array based implementation\n",
    "\n",
    "Must specify some maximum size $N$ for stack $S$\n",
    "\n",
    "if stack is empty, $t = -1$\n",
    "\n",
    "number of elements in stack $= t+1$"
   ]
  },
  {
   "cell_type": "code",
   "execution_count": 54,
   "metadata": {},
   "outputs": [],
   "source": [
    "class Stack:\n",
    "    def __init__(self):\n",
    "        self.N = 50\n",
    "        self.t = -1\n",
    "        self.S = [None]*(self.N)\n",
    "\n",
    "    def push(self, x):\n",
    "        if (self.t)+1 == self.N:\n",
    "            return ('Error: Stack Full')\n",
    "        \n",
    "        else:\n",
    "            self.t += 1\n",
    "            self.S[self.t] = x\n",
    "\n",
    "    def pop(self):\n",
    "\n",
    "        if self.t < 0:\n",
    "            return ('Error: Stack empty')\n",
    "        else:\n",
    "            e = self.S[self.t]\n",
    "            self.S[self.t] = None\n",
    "            self.t -=1\n",
    "            return e\n",
    "\n",
    "    def printStack(self):\n",
    "        print(self.S)\n",
    "    "
   ]
  },
  {
   "cell_type": "code",
   "execution_count": 55,
   "metadata": {},
   "outputs": [
    {
     "name": "stdout",
     "output_type": "stream",
     "text": [
      "[1, 3, None, None, None, None, None, None, None, None, None, None, None, None, None, None, None, None, None, None, None, None, None, None, None, None, None, None, None, None, None, None, None, None, None, None, None, None, None, None, None, None, None, None, None, None, None, None, None, None]\n"
     ]
    }
   ],
   "source": [
    "elements = Stack()\n",
    "\n",
    "elements.push(1)\n",
    "elements.push(3)\n",
    "elements.push(5)\n",
    "\n",
    "elements.pop()\n",
    "\n",
    "elements.printStack()"
   ]
  },
  {
   "cell_type": "markdown",
   "metadata": {},
   "source": [
    "## computing spans\n",
    "\n",
    "Given an array $X$, span $S[i]$ of $X[i]$ is the maximum number of consecutive elements $X[j]$ immediately preceding $X[i]$ such that $X[j] \\leq X[i]$ with $j \\leq i$"
   ]
  },
  {
   "cell_type": "code",
   "execution_count": null,
   "metadata": {},
   "outputs": [],
   "source": []
  }
 ],
 "metadata": {
  "interpreter": {
   "hash": "d9542f6d2a733f76b77b9a688b98118086f65c77e5093bd6ef3ddcffeca637f9"
  },
  "kernelspec": {
   "display_name": "Python 3.8.5 64-bit ('base': conda)",
   "name": "python3"
  },
  "language_info": {
   "codemirror_mode": {
    "name": "ipython",
    "version": 3
   },
   "file_extension": ".py",
   "mimetype": "text/x-python",
   "name": "python",
   "nbconvert_exporter": "python",
   "pygments_lexer": "ipython3",
   "version": "3.8.5"
  }
 },
 "nbformat": 4,
 "nbformat_minor": 4
}